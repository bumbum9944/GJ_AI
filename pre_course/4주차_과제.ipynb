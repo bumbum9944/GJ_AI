{
  "nbformat": 4,
  "nbformat_minor": 0,
  "metadata": {
    "colab": {
      "name": "4주차_과제.ipynb",
      "provenance": [],
      "collapsed_sections": [],
      "include_colab_link": true
    },
    "kernelspec": {
      "name": "python3",
      "display_name": "Python 3"
    }
  },
  "cells": [
    {
      "cell_type": "markdown",
      "metadata": {
        "id": "view-in-github",
        "colab_type": "text"
      },
      "source": [
        "<a href=\"https://colab.research.google.com/github/bumbum9944/GJ_AI/blob/master/4%EC%A3%BC%EC%B0%A8_%EA%B3%BC%EC%A0%9C.ipynb\" target=\"_parent\"><img src=\"https://colab.research.google.com/assets/colab-badge.svg\" alt=\"Open In Colab\"/></a>"
      ]
    },
    {
      "cell_type": "markdown",
      "metadata": {
        "id": "wxkL6PjwsI6L",
        "colab_type": "text"
      },
      "source": [
        "# 4주차 과제\n",
        "- 용어 정리\n",
        "- 딥러닝 강의 클론 코딩\n",
        "- 딥러닝 순전파 & 역전파 계산"
      ]
    },
    {
      "cell_type": "markdown",
      "metadata": {
        "id": "ixEtDe6_uGgI",
        "colab_type": "text"
      },
      "source": [
        "## 1. 용어 정리\n",
        "\n",
        "다음 제시된 단어의 정의(설명)를 정리하여 작성 하세요.\n",
        "\n",
        "* 2문장 이상 작성 해 주세요. \n",
        "* 주제(단어)와 크게 벗어나지만 않는다면 정답처리 됩니다.\n",
        "* 강의 뿐 아니라 기타 레퍼런스를 참고하여 작성하셔도 됩니다. (기타 레퍼런스를 참고하신 경우, 해당 레퍼런스를 정리하여 하단에 작성해 주세요.)\n"
      ]
    },
    {
      "cell_type": "markdown",
      "metadata": {
        "id": "0lfwat8eurKZ",
        "colab_type": "text"
      },
      "source": [
        "__(예시)__\n",
        "### 심층 신경망\n",
        ": 입력층과 출력층 사이에 여러 개의 은닉층들로 이뤄진 인공신경망이다. 심층 신경망은 일반적으로 인공신경망과 마찬가지로 복잡한 비선형 관계들을 모델링 할 수 있다. 신층신경망의 목적은 분류 및 수치예측을 하기 위함이고 이미지 트레이닝이나 문자인식과 같은 분야에서 매우 유용하게 쓰이고 있다."
      ]
    },
    {
      "cell_type": "markdown",
      "metadata": {
        "id": "Y8YJNKG_v65A",
        "colab_type": "text"
      },
      "source": [
        "### MCP 뉴런\n",
        ": 워렌 맥 컬락과 월터 피츠 연구원이 1943년 발표한 최초의 단순화된 뇌 세포 개념이다.\n",
        "\n",
        "* 여기서 신경 세포는 이진 출력을 가진 간단한 논리 게이트로 묘사된다.\n",
        "이 개념에서는 여러 개의 입력 신호가 가지돌기에 도착하면 신경세포 내에서 하나의 신호로 통합되고, 통합된 신호 값이 어떤 임계값을 초과하면 하나의 단일 신호가 생성되어 축삭돌기를 통해 다른 신경세포로 전달하는 것으로 이해하고 있다.\n",
        "\n",
        "(출처: https://m.blog.naver.com/PostView.nhn?blogId=samsjang&logNo=220948258166&proxyReferer=https:%2F%2Fwww.google.com%2F)\n",
        "\n",
        "### 퍼셉트론\n",
        ":프랭크 로센블래트가 MCP 뉴런 모델을 참고하여 고안한 인공신경망이다.\n",
        "\n",
        "* 이 알고리즘에서는 뉴런이 새로운 출력을 발생할지 안할지를 결정하기 위해 뉴런의 입력값에 곱해주는 가중치 값을 자동으로 학습하게된다.\n",
        "\n",
        "* 이것은 가장 간단한 형태의 피드포워드(Feedforward) 네트워크 - 선형분류기- 로도 볼 수 있다.\n",
        "\n",
        "(출처: https://m.blog.naver.com/PostView.nhn?blogId=samsjang&logNo=220948258166&proxyReferer=https:%2F%2Fwww.google.com%2F)\n",
        "\n",
        "### 역전파\n",
        ": 가중치 매개변수의 기울기를 효율적으로 계산하는 알고리즘이다. 역전파라는 이름은 오차(에러)가 본래 진행방향과 반대방향으로 전파 된다하여 붙여진 이름이다.\n",
        "\n",
        "* 초기 가중치의 값은 랜덤으로 주어진다.\n",
        "* 출력값과 지도데이터 사이에 생기는 오차를 이용해 출력층에서 입력층 쪽으로 가중치를 조정하게된다.\n",
        "* 하나의 데이터가 아닌 모든 입력값에 대해서 손실함수 값이 최소가 되는 가중치 값을 찾아야 한다.\n",
        "* 활성함수로 시그모이드 함수와 소프트맥스 함수를 사용했을 때 신경망의 층이 깊어지면 기울기가 사라지거나 가중치 값 조정이 안되는 문제가 있었다. -> ReLU 함수를 사용하여 어느정도 해결할 수 있음이 밝혀짐\n",
        "\n",
        "### 강화학습\n",
        ": 기계학습의 한 영역으로 행동심리학에 영향을 받았다. 어떤 환경 안에서 정의된 에이전트가 현재의 상태를 인식하여, 선택 가능한 행동들 중 보상을 최대화하는 행동 혹은 행동 순서를 선택하는 방법이다.\n",
        "\n",
        "* 상태 : 현재 시점에서 상황이 어떤지 나타내는 값의 집합\n",
        "* 행동 : 에이전트가 취할 수 있는 선택지\n",
        "* 보상 : 에이전트가 어떤 행동을 했을 때 따라오는 이득\n",
        "* 지도학습 및 비지도 학습과 달리 훈련 집합이 주어지지 않는다.\n",
        "* 탐험 : 다양한 경험을 쌓기 위해 무작위로 새로운 시도를 하는 것을 말한다.\n",
        "* 이용 : 현재까지의 경험 중 최대의 보상을 얻을 수 있는 행동을 수행하는 것을 말한다.\n",
        "* 감가율 : 미래의 가치를 현재의 가치로 환산하는 것을 말한다.에이전트의 입장에서 현재 기록된 정보만으로는 어떤 행동이 더 효율적인지 판단할 수 없다. 그래서 이때 감가율을 사용한다.\n",
        "* 이용은 그리디한 방식으로 최적의 행동을 찾아내지 못할 수 있다. 따라서 탐험이 항상 동반되어야하며 그 비율을 적절하게 조절하는 것이 강화학습의 핵심이다.\n",
        "\n",
        "### 과적합\n",
        ": 모델이 학습 데이터를 과하게 학습한 것을 말한다. 학습 데이터에 대해서는 높은 정확도를 보이나 실제 데이터에 대해서는 원하는 결과값을 출력하지 못한다. 이는 일반화가 되지 않았음을 말한다.\n",
        "* 그래프로 보면 학습 데이터에 대해서는 오차가 감소하지만 실제 데이터에서는 오차가 증가하는 지점이 존재하게 된다.\n",
        "\n",
        "### 차원의 저주\n",
        ": 훈련 데이터셋 차원이 늘어남에 따라 데이터가 차지하는 공간이 점점 작아지는 현상이다. 보통 낮은 차원에서가 아니라 고차원에서 발생한다.\n",
        "\n",
        "* 해결책 중 하나는 훈련 샘플의 밀도가 충분히 커질만큼 데이터의 크기를 키우는 것이다. 하지만 데이터가 무한정 있지 않기 때문에 이는 어렵다.\n",
        "* 위의 문제를 해결하기 위해 사용하는 방법이 차원 축소이다.\n",
        "\n"
      ]
    },
    {
      "cell_type": "markdown",
      "metadata": {
        "id": "d-zfFXLCy6jD",
        "colab_type": "text"
      },
      "source": [
        "## 2. 딥러닝 강의 클론 코딩\n",
        "\n",
        "####__퍼셉트론 구조 구현하기__ \n",
        "딥러닝 강의(__딥러닝 원리[1] 3:15 ~ 5:15 부분__)를 보고 코드를 따라 치며 출력 결과를 만드세요.\n",
        " \n",
        "\n",
        "* 하나의 코드셀에 해당 코드를 한번에 다 적어서 실행해주세요 (__그렇게 하지 않을 경우, 아래 이미지와 같은 출력값이 나오지 않을 수 있습니다__)\n",
        "\n",
        "*__주의!__ 실제로 코딩해서 출력해보면 강의에 나온 출력 결과와 다르게 나옵니다!!\n"
      ]
    },
    {
      "cell_type": "markdown",
      "metadata": {
        "id": "wcc5mzI9oZ7r",
        "colab_type": "text"
      },
      "source": [
        "![대체 텍스트](https://www.notion.so/image/https%3A%2F%2Fs3-us-west-2.amazonaws.com%2Fsecure.notion-static.com%2F0cceeed0-0235-4b0f-af88-0b8c377d5b4b%2F_2020-06-09__9.35.23.png?table=block&id=88fd8912-9356-49a4-9fda-a1a63fe96ea9&width=2870&cache=v2)"
      ]
    },
    {
      "cell_type": "code",
      "metadata": {
        "id": "E2yiywuAXgF2",
        "colab_type": "code",
        "colab": {
          "base_uri": "https://localhost:8080/",
          "height": 210
        },
        "outputId": "8bb3169b-4957-43be-9634-41da2ebc5765"
      },
      "source": [
        "import tensorflow as tf\n",
        "tf.compat.v1.set_random_seed(2020)\n",
        "x = 1\n",
        "y = 0\n",
        "w = tf.random.normal([1], 0, 1)\n",
        "\n",
        "import math\n",
        "def sigmoid(x):\n",
        "  return 1/(1+math.exp(-x))\n",
        "output = sigmoid(x * w)\n",
        "print(output)\n",
        "\n",
        "for i in range(1000):\n",
        "  output = sigmoid(x * w)\n",
        "  error = y - output\n",
        "  w = w + x * 0.1 * error\n",
        "\n",
        "  if i % 100 ==99:\n",
        "    print('학습 횟수:',i, \"Error:\", error, \"예측결과:\", output)"
      ],
      "execution_count": 1,
      "outputs": [
        {
          "output_type": "stream",
          "text": [
            "0.47477188589261\n",
            "학습 횟수: 99 Error: -0.10010598284299604 예측결과: 0.10010598284299604\n",
            "학습 횟수: 199 Error: -0.05178399422833116 예측결과: 0.05178399422833116\n",
            "학습 횟수: 299 Error: -0.034590451977903586 예측결과: 0.034590451977903586\n",
            "학습 횟수: 399 Error: -0.02588962752851373 예측결과: 0.02588962752851373\n",
            "학습 횟수: 499 Error: -0.020658699939863617 예측결과: 0.020658699939863617\n",
            "학습 횟수: 599 Error: -0.017174253993457355 예측결과: 0.017174253993457355\n",
            "학습 횟수: 699 Error: -0.014689506449480992 예측결과: 0.014689506449480992\n",
            "학습 횟수: 799 Error: -0.012829497265431342 예측결과: 0.012829497265431342\n",
            "학습 횟수: 899 Error: -0.011385568271837804 예측결과: 0.011385568271837804\n",
            "학습 횟수: 999 Error: -0.010232493309882492 예측결과: 0.010232493309882492\n"
          ],
          "name": "stdout"
        }
      ]
    },
    {
      "cell_type": "markdown",
      "metadata": {
        "id": "kr0HVRk8fOom",
        "colab_type": "text"
      },
      "source": [
        "## 3. 딥러닝 순전파 & 역전파 계산\n",
        "\n",
        "딥러닝 강의(__딥러닝 원리[2] 0:55 ~ 4:32 부분__)에 나오는 순전파 & 역전파 계산에 대한 문제 입니다.\n",
        "\n",
        "해당 영상과 다음 이미지를 참고하여 다음 2가지 물음에 답하세요.\n",
        "\n",
        "\n",
        "(1) 학습률이 0.2 일 경우 출력층의 노드값\n",
        "\n",
        "(2) 학습률이 0.1과 0.2 중 기대출력값이 지도데이터 \"3\"과 더 가까운 학습률은?"
      ]
    },
    {
      "cell_type": "markdown",
      "metadata": {
        "id": "CpwPFWhOUzww",
        "colab_type": "text"
      },
      "source": [
        "![대체 텍스트](https://www.notion.so/image/https%3A%2F%2Fs3-us-west-2.amazonaws.com%2Fsecure.notion-static.com%2Ff54dfd45-92ec-44ae-9616-6949d2484a45%2F_2020-06-10__5.22.03.png?table=block&id=ee05da89-3ceb-4ad9-a2d3-c9f68d24d1d9&width=3580&cache=v2)"
      ]
    },
    {
      "cell_type": "markdown",
      "metadata": {
        "id": "B2OVY7w5U3CI",
        "colab_type": "text"
      },
      "source": [
        "## (1) 학습률이 0.2 일 경우 출력층의 노드값 : 1.6\n",
        "## (2) 학습률이 0.1과 0.2 중 기대출력값이 지도데이터 \"3\"과 더 가까운 학습률은? : 0.1"
      ]
    }
  ]
}