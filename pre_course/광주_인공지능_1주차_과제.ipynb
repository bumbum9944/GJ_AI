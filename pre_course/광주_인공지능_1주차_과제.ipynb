{
  "nbformat": 4,
  "nbformat_minor": 0,
  "metadata": {
    "colab": {
      "name": "광주_인공지능_1주차_과제",
      "provenance": [],
      "authorship_tag": "ABX9TyPKatxhDUR46v6fXY/Ym0bH",
      "include_colab_link": true
    },
    "kernelspec": {
      "name": "python3",
      "display_name": "Python 3"
    }
  },
  "cells": [
    {
      "cell_type": "markdown",
      "metadata": {
        "id": "view-in-github",
        "colab_type": "text"
      },
      "source": [
        "<a href=\"https://colab.research.google.com/github/bumbum9944/GJ_AI/blob/master/%EA%B4%91%EC%A3%BC_%EC%9D%B8%EA%B3%B5%EC%A7%80%EB%8A%A5_1%EC%A3%BC%EC%B0%A8_%EA%B3%BC%EC%A0%9C.ipynb\" target=\"_parent\"><img src=\"https://colab.research.google.com/assets/colab-badge.svg\" alt=\"Open In Colab\"/></a>"
      ]
    },
    {
      "cell_type": "markdown",
      "metadata": {
        "id": "VspNkZcy8zjN",
        "colab_type": "text"
      },
      "source": [
        "### 1주차 과제\n",
        "\n",
        "- 언어  분야\n",
        "\n",
        "    - 구글 번역 : 2007년 구글에서 발표한 무료 번역 서비스\n",
        "\n",
        "    - 통계적 기계번역을 사용하여 서비스를 시작하였다.\n",
        "\n",
        "    > 2016년부터 딥러닝 기술을 도입하여 기존 구글 번역의 오류를 획기적으로 줄일 수 있었다고 한다.\n",
        "\n",
        "\n",
        "- 음성 분야\n",
        "    \n",
        "    - 인공지능 스피커 : 음성인식 인공지능 비서가 탑재된 스피커를 말한다.\n",
        "\n",
        "    - 대표적으로 아마존의 에코, 구글의 구글 홈 등이 있다.\n",
        "\n",
        "    아마존의 에코에 연결되어 있는 음성 인식 인공지능 알렉사는\n",
        "    유저의 음성 신호를 음성 신호 벡터로 바꿔 여러 특성 추출기를 거친다.\n",
        "    여기에서 딥러닝 기술이 활용 되고 음성 신호에서 '스피치 인식', '언어 인식',\n",
        "    '언어 표현 정보' 등을 추출하여 의미를 파악한다.\n",
        "\n",
        "- 이미지 분야\n",
        "\n",
        "    - 암진단 : 이미지 분석 인공지능을 통해 암을 진단\n",
        "\n",
        "    - 유방암의 경우 이미지 크기는 크나 암세포의 크기는 매우 작아 눈으로 진단이 어려움\n",
        "\n",
        "    구글 인공지능 헬스케어 팀의 발표에 따르면 이미 인공지능을 활용한 암진단의\n",
        "    에러율이 사람의 에러율보다 낮아졌음\n",
        "\n",
        "- 자율주행 분야\n",
        "\n",
        "    - 테슬라의 오토 파일럿 : 테슬라 자동차에서 사용되고 있는 ADAS 시스템으로서 운전자없이 자동차를 운행하는 것을 최종 목표로 하고 있다.\n",
        "    - 완전 자율 주행 기능이 완성 되었으나 아직 법적으로 사용은 불가하다. 사람의 통제하에 작동하므로 아직 레벨5의 자율주행은 아니다.\n",
        "\n"
      ]
    }
  ]
}